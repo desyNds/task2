{
 "cells": [
  {
   "cell_type": "code",
   "execution_count": 2,
   "metadata": {},
   "outputs": [],
   "source": [
    "from member.views import *\n",
    "from django.test import RequestFactory"
   ]
  },
  {
   "cell_type": "code",
   "execution_count": 4,
   "metadata": {
    "scrolled": true
   },
   "outputs": [],
   "source": [
    "request_factory = RequestFactory()\n",
    "url = '/member/try' \n",
    "request = request_factory.get(url)"
   ]
  },
  {
   "cell_type": "code",
   "execution_count": 5,
   "metadata": {},
   "outputs": [
    {
     "name": "stdout",
     "output_type": "stream",
     "text": [
      "b'<h1>hello world</h1>'\n"
     ]
    }
   ],
   "source": [
    "response = TryView.as_view()(request) \n",
    "print(response.content)"
   ]
  },
  {
   "cell_type": "code",
   "execution_count": 6,
   "metadata": {},
   "outputs": [],
   "source": [
    "request_factory = RequestFactory()\n",
    "url = '/member/try1'\n",
    "request = request_factory.get(url)"
   ]
  },
  {
   "cell_type": "code",
   "execution_count": 7,
   "metadata": {},
   "outputs": [
    {
     "name": "stdout",
     "output_type": "stream",
     "text": [
      "b'<h2>hello google</h2>'\n"
     ]
    }
   ],
   "source": [
    "response = TryView1.as_view()(request)\n",
    "print(response.content)"
   ]
  },
  {
   "cell_type": "code",
   "execution_count": 8,
   "metadata": {},
   "outputs": [],
   "source": [
    "request_factory = RequestFactory()\n",
    "url = '/member/try2'\n",
    "request = request_factory.get(url)"
   ]
  },
  {
   "cell_type": "code",
   "execution_count": 9,
   "metadata": {},
   "outputs": [
    {
     "name": "stdout",
     "output_type": "stream",
     "text": [
      "b'<h3>hello world python'\n"
     ]
    }
   ],
   "source": [
    "response = TryView2.as_view()(request)\n",
    "print(response.content)"
   ]
  },
  {
   "cell_type": "code",
   "execution_count": 10,
   "metadata": {},
   "outputs": [],
   "source": [
    "request_factory = RequestFactory()\n",
    "url = '/member/tpl'\n",
    "request = request_factory.get(url)"
   ]
  },
  {
   "cell_type": "code",
   "execution_count": 12,
   "metadata": {
    "scrolled": true
   },
   "outputs": [
    {
     "name": "stdout",
     "output_type": "stream",
     "text": [
      "b'<h1>hai hai hai</h1>\\n\\nwelcome to python django, this is the second task from my mentor ^^ <br> \\n\\nwe are going to try about python and django <br/>\\n[1, 2, 3, 4, 5] <br>\\n<a href=\"/member/try\">Click Here</a> <br>\\n<a href=\"/member/try1\">Click Here</a> <br>\\n<a href=\"/member/try2\">Click Here</a>\\n\\n<br>\\n\\n    <b>Your Logis is False</b>\\n\\n<br>\\n\\n1<br>\\n\\n2<br>\\n\\n3<br>\\n\\n4<br>\\n\\n5<br>\\n\\n\\n'\n"
     ]
    }
   ],
   "source": [
    "response = TryTplView.as_view()(request)\n",
    "print(response.content)"
   ]
  }
 ],
 "metadata": {
  "kernelspec": {
   "display_name": "Django Shell-Plus",
   "language": "python",
   "name": "django_extensions"
  },
  "language_info": {
   "codemirror_mode": {
    "name": "ipython",
    "version": 3
   },
   "file_extension": ".py",
   "mimetype": "text/x-python",
   "name": "python",
   "nbconvert_exporter": "python",
   "pygments_lexer": "ipython3",
   "version": "3.5.4"
  }
 },
 "nbformat": 4,
 "nbformat_minor": 2
}
